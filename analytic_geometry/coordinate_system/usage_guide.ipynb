{
 "cells": [
  {
   "cell_type": "markdown",
   "id": "406c3ae3",
   "metadata": {},
   "source": [
    "### Coordinates systems in 2d"
   ]
  },
  {
   "cell_type": "markdown",
   "id": "3c3592a9",
   "metadata": {},
   "source": [
    "* Cartesian"
   ]
  },
  {
   "cell_type": "code",
   "execution_count": 1,
   "id": "827a2f04",
   "metadata": {},
   "outputs": [],
   "source": [
    "from analytic_geometry.coordinate_system.two_dimentional.cartesian import CartesianPoint_2d"
   ]
  },
  {
   "cell_type": "code",
   "execution_count": 2,
   "id": "409ca671",
   "metadata": {},
   "outputs": [],
   "source": [
    "a = CartesianPoint_2d(name=\"A\", x=-1, y=15)\n",
    "b = CartesianPoint_2d(name=\"B\", x=1, y=-1)"
   ]
  },
  {
   "cell_type": "code",
   "execution_count": 3,
   "id": "ae67be1c",
   "metadata": {},
   "outputs": [
    {
     "data": {
      "text/plain": [
       "(CartesianPoint_2d(name='A', x=-1.0, y=15.0),\n",
       " CartesianPoint_2d(name='B', x=1.0, y=-1.0))"
      ]
     },
     "execution_count": 3,
     "metadata": {},
     "output_type": "execute_result"
    }
   ],
   "source": [
    "a, b"
   ]
  },
  {
   "cell_type": "code",
   "execution_count": 4,
   "id": "3a6091e0",
   "metadata": {},
   "outputs": [
    {
     "data": {
      "text/plain": [
       "(array([-1., 15.]), array([ 1., -1.]))"
      ]
     },
     "execution_count": 4,
     "metadata": {},
     "output_type": "execute_result"
    }
   ],
   "source": [
    "a.to_array(), b.to_array()"
   ]
  },
  {
   "cell_type": "code",
   "execution_count": 5,
   "id": "bf8b47c7",
   "metadata": {},
   "outputs": [
    {
     "name": "stdout",
     "output_type": "stream",
     "text": [
      "Todo...\n",
      "Todo...\n"
     ]
    }
   ],
   "source": [
    "a.visualize()\n",
    "b.visualize_in_cartesian()"
   ]
  },
  {
   "cell_type": "code",
   "execution_count": 6,
   "id": "3cd82031",
   "metadata": {},
   "outputs": [
    {
     "data": {
      "text/plain": [
       "(np.float64(16.1245154965971), np.float64(16.1245154965971))"
      ]
     },
     "execution_count": 6,
     "metadata": {},
     "output_type": "execute_result"
    }
   ],
   "source": [
    "a.euclidean_distanse_to(b), b.euclidean_distanse_to(a)"
   ]
  },
  {
   "cell_type": "markdown",
   "id": "2f8307df",
   "metadata": {},
   "source": [
    "* Polar"
   ]
  },
  {
   "cell_type": "code",
   "execution_count": 7,
   "id": "91efe0fa",
   "metadata": {},
   "outputs": [],
   "source": [
    "import numpy as np\n",
    "\n",
    "from analytic_geometry.coordinate_system.two_dimentional.polar import PolarPoint_2d"
   ]
  },
  {
   "cell_type": "code",
   "execution_count": 8,
   "id": "23153faf",
   "metadata": {},
   "outputs": [],
   "source": [
    "c = PolarPoint_2d(name=\"c\", r=1, theta=np.pi / 3)\n",
    "d = PolarPoint_2d(name=\"d\", r=10, theta=np.pi / 4)"
   ]
  },
  {
   "cell_type": "code",
   "execution_count": 9,
   "id": "82b9cc8c",
   "metadata": {},
   "outputs": [
    {
     "data": {
      "text/plain": [
       "PolarPoint_2d(name='c', r=1.0, theta=1.0471975511965976)"
      ]
     },
     "execution_count": 9,
     "metadata": {},
     "output_type": "execute_result"
    }
   ],
   "source": [
    "c"
   ]
  },
  {
   "cell_type": "code",
   "execution_count": 10,
   "id": "6726bddd",
   "metadata": {},
   "outputs": [
    {
     "data": {
      "text/plain": [
       "PolarPoint_2d(name='d', r=10.0, theta=0.7853981633974483)"
      ]
     },
     "execution_count": 10,
     "metadata": {},
     "output_type": "execute_result"
    }
   ],
   "source": [
    "d"
   ]
  },
  {
   "cell_type": "code",
   "execution_count": 11,
   "id": "c83f1eea",
   "metadata": {},
   "outputs": [
    {
     "data": {
      "text/plain": [
       "(array([1.        , 1.04719755]), array([10.        ,  0.78539816]))"
      ]
     },
     "execution_count": 11,
     "metadata": {},
     "output_type": "execute_result"
    }
   ],
   "source": [
    "c.to_array(), d.to_array()"
   ]
  },
  {
   "cell_type": "code",
   "execution_count": 12,
   "id": "ed7800ca",
   "metadata": {},
   "outputs": [
    {
     "data": {
      "text/plain": [
       "(CartesianPoint_2d(name='c', x=0.5000000000000001, y=0.8660254037844386),\n",
       " CartesianPoint_2d(name='d', x=7.0710678118654755, y=7.071067811865475))"
      ]
     },
     "execution_count": 12,
     "metadata": {},
     "output_type": "execute_result"
    }
   ],
   "source": [
    "c.to_cartesian(), d.to_cartesian()"
   ]
  },
  {
   "cell_type": "code",
   "execution_count": null,
   "id": "d7c24c99",
   "metadata": {},
   "outputs": [
    {
     "name": "stdout",
     "output_type": "stream",
     "text": [
      "Todo...\n"
     ]
    }
   ],
   "source": [
    "c.visualize()\n",
    "d.visualize_in_cartesian()"
   ]
  },
  {
   "cell_type": "code",
   "execution_count": 15,
   "id": "816731a8",
   "metadata": {},
   "outputs": [
    {
     "data": {
      "text/plain": [
       "(np.float64(9.037780893240257), np.float64(9.037780893240257))"
      ]
     },
     "execution_count": 15,
     "metadata": {},
     "output_type": "execute_result"
    }
   ],
   "source": [
    "c.euclidean_distanse_to(d), d.euclidean_distanse_to(c)"
   ]
  },
  {
   "cell_type": "markdown",
   "id": "7ae8d5c8",
   "metadata": {},
   "source": [
    "### Coordinates systems in 3d\n"
   ]
  },
  {
   "cell_type": "markdown",
   "id": "a741976f",
   "metadata": {},
   "source": [
    "* Cartesian"
   ]
  },
  {
   "cell_type": "code",
   "execution_count": 19,
   "id": "2c414d22",
   "metadata": {},
   "outputs": [],
   "source": [
    "from analytic_geometry.coordinate_system.three_dimentional.cartesian import CartesianPoint_3d"
   ]
  },
  {
   "cell_type": "code",
   "execution_count": 20,
   "id": "09653e1b",
   "metadata": {},
   "outputs": [],
   "source": [
    "A = CartesianPoint_3d(name=\"A\", x=1, y=1, z=1)\n",
    "B = CartesianPoint_3d(name=\"B\", x=-1, y=0, z=-255)"
   ]
  },
  {
   "cell_type": "code",
   "execution_count": 23,
   "id": "0ffc69d4",
   "metadata": {},
   "outputs": [
    {
     "data": {
      "text/plain": [
       "(CartesianPoint_3d(name='A', x=1.0, y=1.0, z=1.0),\n",
       " CartesianPoint_3d(name='B', x=-1.0, y=0.0, z=-255.0))"
      ]
     },
     "execution_count": 23,
     "metadata": {},
     "output_type": "execute_result"
    }
   ],
   "source": [
    "A, B"
   ]
  },
  {
   "cell_type": "code",
   "execution_count": 24,
   "id": "7e7a52d8",
   "metadata": {},
   "outputs": [
    {
     "data": {
      "text/plain": [
       "(array([1., 1., 1.]), array([  -1.,    0., -255.]))"
      ]
     },
     "execution_count": 24,
     "metadata": {},
     "output_type": "execute_result"
    }
   ],
   "source": [
    "A.to_array(), B.to_array()"
   ]
  },
  {
   "cell_type": "code",
   "execution_count": 25,
   "id": "116421a2",
   "metadata": {},
   "outputs": [
    {
     "name": "stdout",
     "output_type": "stream",
     "text": [
      "Todo...\n",
      "Todo...\n"
     ]
    }
   ],
   "source": [
    "A.visualize()\n",
    "B.visualize_in_cartesian()"
   ]
  },
  {
   "cell_type": "code",
   "execution_count": 27,
   "id": "30d13d53",
   "metadata": {},
   "outputs": [
    {
     "data": {
      "text/plain": [
       "(np.float64(256.0097654387426), np.float64(256.0097654387426))"
      ]
     },
     "execution_count": 27,
     "metadata": {},
     "output_type": "execute_result"
    }
   ],
   "source": [
    "A.euclidean_distanse_to(B), B.euclidean_distanse_to(A)"
   ]
  },
  {
   "cell_type": "markdown",
   "id": "13a65f8e",
   "metadata": {},
   "source": [
    "* Spherical\n"
   ]
  },
  {
   "cell_type": "code",
   "execution_count": null,
   "id": "16432849",
   "metadata": {},
   "outputs": [],
   "source": [
    "..."
   ]
  },
  {
   "cell_type": "markdown",
   "id": "99f23e70",
   "metadata": {},
   "source": [
    "* Cylindrical"
   ]
  },
  {
   "cell_type": "code",
   "execution_count": null,
   "id": "0a4634ce",
   "metadata": {},
   "outputs": [],
   "source": [
    "..."
   ]
  }
 ],
 "metadata": {
  "kernelspec": {
   "display_name": ".venv",
   "language": "python",
   "name": "python3"
  },
  "language_info": {
   "codemirror_mode": {
    "name": "ipython",
    "version": 3
   },
   "file_extension": ".py",
   "mimetype": "text/x-python",
   "name": "python",
   "nbconvert_exporter": "python",
   "pygments_lexer": "ipython3",
   "version": "3.13.5"
  }
 },
 "nbformat": 4,
 "nbformat_minor": 5
}
